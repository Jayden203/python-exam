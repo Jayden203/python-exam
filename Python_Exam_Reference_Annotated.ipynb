{
  "cells": [
    {
      "cell_type": "markdown",
      "metadata": {},
      "source": [
        "# 🧠 Python 考试参考讲义：带函数讲解与注释代码\n",
        "本 Notebook 汇总了讲解内容与完整注释代码，可直接在 Jupyter Notebook 中运行。\n\n",
        "## 📚 目录\n",
        "1. 文件头与导入库\n",
        "2. 数据读取与清洗（pandas）\n",
        "3. 可视化（matplotlib）\n",
        "4. 数据库存储与查询（sqlite3）\n",
        "5. 神经网络实现与训练（PyTorch）"
      ]
    },
    {
      "cell_type": "markdown",
      "metadata": {},
      "source": [
        "## 📘 1. 文件头与导入库\n",
        "- 指定 UTF-8 编码，防止中文乱码。\n",
        "- 导入 pandas、matplotlib、sqlite3、torch 等模块：用于数据处理、可视化、数据库操作与神经网络。\n",
        "- 通过 `os.environ` 设置 `KMP_DUPLICATE_LIB_OK`（临时解决 OpenMP 冲突，仅救急使用）。"
      ]
    },
    {
      "cell_type": "code",
      "metadata": {},
      "source": [
        "# -*- coding: utf-8 -*-  # 指定源码文件编码，防止中文乱码\n",
        "import pandas as pd                   # 数据处理\n",
        "import matplotlib.pyplot as plt       # 绘图\n",
        "import sqlite3                        # SQLite 数据库\n",
        "import torch                          # PyTorch 张量运算\n",
        "import torch.nn as nn                 # 神经网络模块\n",
        "import torch.optim as optim           # 优化器\n",
        "import os                             # 操作系统接口\n",
        "\n",
        "# 临时允许重复 OpenMP 运行时继续执行（长期不推荐）\n",
        "os.environ['KMP_DUPLICATE_LIB_OK'] = 'TRUE'"
      ]
    },
    {
      "cell_type": "markdown",
      "metadata": {},
      "source": [
        "## 📊 2. 数据读取与清洗（pandas）\n",
        "- 使用 `pandas.read_csv()` 读取 CSV 文件并解析日期。\n",
        "- 使用 `fillna()` 填充缺失值。\n",
        "- 提取月份周期字段便于分组统计。\n",
        "- 重新计算 `Total = Quantity * Price`。"
      ]
    },
    {
      "cell_type": "code",
      "metadata": {},
      "source": [
        "# 读取 CSV 文件\n",
        "df = pd.read_csv('sales_data.csv', parse_dates=['Date'], dayfirst=True)\n",
        "\n",
        "# 填充缺失值\n",
        "df.fillna({'Product': 'Unknown', 'Quantity': 0, 'Price': 0.0, 'Total': 0.0}, inplace=True)\n",
        "\n",
        "# 保存原始日期列\n",
        "df['Date_original'] = df['Date']\n",
        "\n",
        "# 提取月份周期\n",
        "df['Month'] = df['Date_original'].dt.to_period('M')\n",
        "\n",
        "# 重新计算总额\n",
        "df['Total'] = df['Quantity'] * df['Price']\n",
        "\n",
        "df.head()"
      ]
    },
    {
      "cell_type": "markdown",
      "metadata": {},
      "source": [
        "## 📈 3. 可视化（matplotlib）\n",
        "- 使用 `groupby()` 聚合数据并生成图表。\n",
        "- 使用 `plt.show()` 显示图像。"
      ]
    },
    {
      "cell_type": "code",
      "metadata": {},
      "source": [
        "# 产品销量柱状图\n",
        "product_sales = df.groupby('Product')['Quantity'].sum()\n",
        "product_sales.plot(kind='bar', title='Product Sales Distribution', ylabel='Total Quantity Sold', xlabel='Product')\n",
        "plt.show()\n",
        "\n",
        "# 月度销售趋势折线图\n",
        "monthly_sales = df.groupby('Month')['Total'].sum()\n",
        "monthly_sales.plot(kind='line', title='Total Sales Over Time', ylabel='Total Sales', xlabel='Month')\n",
        "plt.show()"
      ]
    },
    {
      "cell_type": "markdown",
      "metadata": {},
      "source": [
        "## 🗄️ 4. 数据库存储与查询（sqlite3）\n",
        "- 连接数据库文件并建表。\n",
        "- 插入清洗后的数据。\n",
        "- 查询 2023 年总销售额及各产品销量。"
      ]
    },
    {
      "cell_type": "code",
      "metadata": {},
      "source": [
        "conn = sqlite3.connect('SalesDB.db')\n",
        "cursor = conn.cursor()\n",
        "\n",
        "# 建表\n",
        "cursor.execute('''CREATE TABLE IF NOT EXISTS Sales (\n",
        "    Date TEXT,\n",
        "    Product TEXT,\n",
        "    Quantity INTEGER,\n",
        "    Price REAL,\n",
        "    Total REAL\n",
        ")''')\n",
        "\n",
        "# 插入数据\n",
        "for _, row in df.iterrows():\n",
        "    cursor.execute('INSERT OR IGNORE INTO Sales (Date, Product, Quantity, Price, Total) VALUES (?, ?, ?, ?, ?)',\n",
        "                   (row['Date'], row['Product'], row['Quantity'], row['Price'], row['Total']))\n",
        "conn.commit()\n",
        "\n",
        "# 查询\n",
        "cursor.execute(\"SELECT SUM(Total) FROM Sales WHERE strftime('%Y', Date)='2023'\")\n",
        "print('Total Sales in 2023:', cursor.fetchone()[0])\n",
        "\n",
        "cursor.execute('''\n",
        "    SELECT Product, SUM(Quantity) FROM Sales\n",
        "    WHERE strftime('%Y', Date)='2023'\n",
        "    GROUP BY Product\n",
        "    ORDER BY SUM(Quantity) DESC\n",
        "''')\n",
        "for product, total_quantity in cursor.fetchall():\n",
        "    print(product, total_quantity)\n",
        "\n",
        "conn.close()"
      ]
    },
    {
      "cell_type": "markdown",
      "metadata": {},
      "source": [
        "## 🤖 5. 神经网络实现与训练（PyTorch）\n",
        "- 定义 `SimpleNN` 三层全连接网络。\n",
        "- 使用 `MSELoss` 损失函数与 `SGD` 优化器。\n",
        "- 模拟数据进行训练并绘制损失曲线。"
      ]
    },
    {
      "cell_type": "code",
      "metadata": {},
      "source": [
        "class SimpleNN(nn.Module):\n",
        "    def __init__(self):\n",
        "        super(SimpleNN, self).__init__()\n",
        "        self.fc1 = nn.Linear(10, 5)\n",
        "        self.fc2 = nn.Linear(5, 3)\n",
        "        self.fc3 = nn.Linear(3, 1)\n",
        "\n",
        "    def forward(self, x):\n",
        "        x = torch.relu(self.fc1(x))\n",
        "        x = torch.relu(self.fc2(x))\n",
        "        x = torch.sigmoid(self.fc3(x))\n",
        "        return x\n",
        "\n",
        "# 实例化模型与优化器\n",
        "model = SimpleNN()\n",
        "criterion = nn.MSELoss()\n",
        "optimizer = optim.SGD(model.parameters(), lr=0.01)\n",
        "\n",
        "# 生成模拟数据\n",
        "data = torch.randn(100, 10)\n",
        "target = torch.randn(100, 1)\n",
        "losses = []\n",
        "\n",
        "# 训练循环\n",
        "for epoch in range(20):\n",
        "    optimizer.zero_grad()\n",
        "    output = model(data)\n",
        "    loss = criterion(output, target)\n",
        "    loss.backward()\n",
        "    optimizer.step()\n",
        "    losses.append(loss.item())\n",
        "\n",
        "# 绘制损失曲线\n",
        "plt.plot(losses)\n",
        "plt.title('Training Loss Over Time')\n",
        "plt.xlabel('Epoch')\n",
        "plt.ylabel('Loss')\n",
        "plt.show()"
      ]
    }
  ],
  "metadata": {
    "kernelspec": {
      "display_name": "Python 3",
      "language": "python",
      "name": "python3"
    },
    "language_info": {
      "name": "python",
      "version": "3.x"
    }
  },
  "nbformat": 4,
  "nbformat_minor": 5
}